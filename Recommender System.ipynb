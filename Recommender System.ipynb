{
 "cells": [
  {
   "cell_type": "markdown",
   "metadata": {},
   "source": [
    "## Import initial required libraries and packages"
   ]
  },
  {
   "cell_type": "code",
   "execution_count": 1,
   "metadata": {},
   "outputs": [],
   "source": [
    "# Import all required libraries and packages\n",
    "\n",
    "from pyspark.sql import SparkSession\n",
    "from pyspark.sql.functions import col, unix_timestamp, month, year, date_format, date_sub, to_date, date_add, lag,  dayofweek, dayofmonth, dayofyear, dayofweek\n",
    "import pandas as pd\n",
    "import numpy as np\n",
    "from pyspark.context import SparkContext\n",
    "from pyspark.sql.functions import approxCountDistinct\n",
    "from pyspark.sql import functions as F\n",
    "from pyspark.sql.functions import lit\n",
    "from pyspark.sql.types import DateType, IntegerType,NumericType\n",
    "from pyspark.ml.feature import QuantileDiscretizer\n",
    "from pyspark.ml.feature import Bucketizer\n",
    "from pyspark.ml.recommendation import ALS\n",
    "from pyspark.ml.evaluation import RegressionEvaluator\n",
    "from pyspark.ml import Pipeline\n",
    "from pyspark.ml.classification import LogisticRegression\n",
    "from pyspark.ml.evaluation import BinaryClassificationEvaluator\n",
    "from pyspark.ml.feature import HashingTF, Tokenizer\n",
    "from pyspark.ml.tuning import CrossValidator, ParamGridBuilder,CrossValidatorModel\n",
    "\n",
    "import matplotlib.pyplot as plt\n",
    "%matplotlib inline"
   ]
  },
  {
   "cell_type": "markdown",
   "metadata": {},
   "source": [
    "## Load in the clean data \n",
    "\n",
    "Here is where we load the cleaned parquet file and take a few initial looks at it"
   ]
  },
  {
   "cell_type": "code",
   "execution_count": 2,
   "metadata": {},
   "outputs": [],
   "source": [
    "# Load the latest clean dataset\n",
    "\n",
    "sc = SparkContext('local')\n",
    "spark = SparkSession(sc)\n",
    "\n",
    "df = spark.read.load(\"hdfs://ca4022-m/user/adam/parquet/cleaned2\")"
   ]
  },
  {
   "cell_type": "code",
   "execution_count": 3,
   "metadata": {},
   "outputs": [
    {
     "data": {
      "text/plain": [
       "12591077"
      ]
     },
     "execution_count": 3,
     "metadata": {},
     "output_type": "execute_result"
    }
   ],
   "source": [
    "# Quick look at how many alcohol transactions we have\n",
    "\n",
    "df.count()"
   ]
  },
  {
   "cell_type": "code",
   "execution_count": 4,
   "metadata": {},
   "outputs": [
    {
     "name": "stdout",
     "output_type": "stream",
     "text": [
      "root\n",
      " |-- Category: integer (nullable = true)\n",
      " |-- Item_Number: integer (nullable = true)\n",
      " |-- Vendor_Number: integer (nullable = true)\n",
      " |-- County_Number: integer (nullable = true)\n",
      " |-- Zip_Code: string (nullable = true)\n",
      " |-- Store_Number: integer (nullable = true)\n",
      " |-- Date: date (nullable = true)\n",
      " |-- Pack: integer (nullable = true)\n",
      " |-- Bottle_Volume_ml: integer (nullable = true)\n",
      " |-- State_Bottle_Cost: float (nullable = true)\n",
      " |-- State_Bottle_Retail: float (nullable = true)\n",
      " |-- Bottles_Sold: integer (nullable = true)\n",
      " |-- Sale_Dollars: float (nullable = true)\n",
      " |-- Volume_Sold_Liters: double (nullable = true)\n",
      " |-- Volume_Sold_Gallons: double (nullable = true)\n",
      " |-- invoice_number: string (nullable = true)\n",
      " |-- line_number: string (nullable = true)\n",
      " |-- Store_Name: string (nullable = true)\n",
      " |-- Address: string (nullable = true)\n",
      " |-- median_lat: float (nullable = true)\n",
      " |-- median_lon: float (nullable = true)\n",
      " |-- City: string (nullable = true)\n",
      " |-- County: string (nullable = true)\n",
      " |-- Vendor_Name: string (nullable = true)\n",
      " |-- Item_Description: string (nullable = true)\n",
      " |-- Category_Name: string (nullable = true)\n",
      "\n"
     ]
    }
   ],
   "source": [
    "# Quick look at the schema features and data types\n",
    "\n",
    "df.printSchema()"
   ]
  },
  {
   "cell_type": "code",
   "execution_count": 6,
   "metadata": {},
   "outputs": [
    {
     "name": "stdout",
     "output_type": "stream",
     "text": [
      "+--------+-----------+-------------+-------------+--------+------------+----------+----+----------------+-----------------+-------------------+------------+------------+------------------+-------------------+--------------+-----------+---------------+-------------+----------+----------+---------------+------+---------------+--------------------+-----------------+\n",
      "|Category|Item_Number|Vendor_Number|County_Number|Zip_Code|Store_Number|      Date|Pack|Bottle_Volume_ml|State_Bottle_Cost|State_Bottle_Retail|Bottles_Sold|Sale_Dollars|Volume_Sold_Liters|Volume_Sold_Gallons|invoice_number|line_number|     Store_Name|      Address|median_lat|median_lon|           City|County|    Vendor_Name|    Item_Description|    Category_Name|\n",
      "+--------+-----------+-------------+-------------+--------+------------+----------+----+----------------+-----------------+-------------------+------------+------------+------------------+-------------------+--------------+-----------+---------------+-------------+----------+----------+---------------+------+---------------+--------------------+-----------------+\n",
      "| 1081390|      69945|          260|           77|   50265|        2648|2012-10-24|  12|             375|             6.75|              10.12|           3|       30.36|              1.12|                0.3|        S08552|     300110|Hy-Vee #4 / WDM|555 S 51ST ST|  41.56122| -93.77358|WEST DES MOINES|  Polk|Diageo Americas|Rumple Minze Pepp...|IMPORTED SCHNAPPS|\n",
      "+--------+-----------+-------------+-------------+--------+------------+----------+----+----------------+-----------------+-------------------+------------+------------+------------------+-------------------+--------------+-----------+---------------+-------------+----------+----------+---------------+------+---------------+--------------------+-----------------+\n",
      "only showing top 1 row\n",
      "\n"
     ]
    }
   ],
   "source": [
    "# Example of what a row looks like in this set, having been cleaned and preprocessed\n",
    "\n",
    "df.show(1)"
   ]
  },
  {
   "cell_type": "code",
   "execution_count": 7,
   "metadata": {},
   "outputs": [
    {
     "name": "stdout",
     "output_type": "stream",
     "text": [
      "+------------+--------------------+\n",
      "|Store_Number|          Store_Name|\n",
      "+------------+--------------------+\n",
      "|        3162|Nash Finch / Whol...|\n",
      "|        4909|Pump N Pak Rock V...|\n",
      "|        3056|Clarion Super Val...|\n",
      "|        4180|Smokin' Joe's #10...|\n",
      "|        9002|Mississippi River...|\n",
      "+------------+--------------------+\n",
      "only showing top 5 rows\n",
      "\n"
     ]
    }
   ],
   "source": [
    "# Quick look at some store numbers alongside the store names\n",
    "\n",
    "df.select([\"Store_Number\",\"Store_Name\"]).dropDuplicates().show(5)"
   ]
  },
  {
   "cell_type": "markdown",
   "metadata": {},
   "source": [
    "## Create derived sales features\n",
    "\n",
    "We need some derived, aggregated, sales values to work with.\n",
    "\n",
    "First we calculate how much sales in USD each item generates in each store.\n",
    "\n",
    "We also want to get the total sales in USD that each store has throughout the whole period within the dataset.\n",
    "\n",
    "Then we join these together in a table, sale_by_store_by_item"
   ]
  },
  {
   "cell_type": "code",
   "execution_count": 3,
   "metadata": {},
   "outputs": [],
   "source": [
    "# Calculate the most popular liquor items in terms of sales for each store\n",
    "\n",
    "sale_by_store_item = df.groupBy(\"Store_Number\", \"Item_Number\").sum(\"Sale_Dollars\")"
   ]
  },
  {
   "cell_type": "code",
   "execution_count": 4,
   "metadata": {},
   "outputs": [],
   "source": [
    "# Calculate total sales in US dollars for each store\n",
    "\n",
    "sales_by_store = df.groupBy(\"Store_Number\").sum(\"Sale_Dollars\")"
   ]
  },
  {
   "cell_type": "code",
   "execution_count": 5,
   "metadata": {},
   "outputs": [],
   "source": [
    "# rename columns\n",
    "\n",
    "sales_by_store = sales_by_store.withColumnRenamed(\"sum(Sale_Dollars)\", \"store_total_sale_dollars\")"
   ]
  },
  {
   "cell_type": "code",
   "execution_count": 6,
   "metadata": {},
   "outputs": [],
   "source": [
    "# Rename columns\n",
    "\n",
    "sales_by_store = sales_by_store.withColumnRenamed(\"Store_Number\", \"store_num\")"
   ]
  },
  {
   "cell_type": "code",
   "execution_count": 7,
   "metadata": {},
   "outputs": [],
   "source": [
    "# join two tables\n",
    "\n",
    "sale_by_store_by_item = sale_by_store_item.alias(\"a\").join(sales_by_store\\\n",
    "                     .alias(\"b\"),sale_by_store_item['Store_Number'] == sales_by_store['store_num'],how='left')"
   ]
  },
  {
   "cell_type": "code",
   "execution_count": 8,
   "metadata": {},
   "outputs": [
    {
     "name": "stdout",
     "output_type": "stream",
     "text": [
      "+------------+-----------+-----------------+---------+------------------------+\n",
      "|Store_Number|Item_Number|Sale_Dollars     |store_num|store_total_sale_dollars|\n",
      "+------------+-----------+-----------------+---------+------------------------+\n",
      "|        2659|      28866|215.8800048828125|     2659|      131108.44009304047|\n",
      "|        2659|      87408|298.8999938964844|     2659|      131108.44009304047|\n",
      "|        2659|      81206|933.8399658203125|     2659|      131108.44009304047|\n",
      "|        2659|      12888|2262.480010986328|     2659|      131108.44009304047|\n",
      "|        2659|      43197|            38.25|     2659|      131108.44009304047|\n",
      "+------------+-----------+-----------------+---------+------------------------+\n",
      "only showing top 5 rows\n",
      "\n"
     ]
    }
   ],
   "source": [
    "sale_by_store_by_item.show(5)"
   ]
  },
  {
   "cell_type": "markdown",
   "metadata": {},
   "source": [
    "Because we now have this table containing the total sales generated by each product within each store, and the total sales that the store generates,  we can now derive what percentage of a store's total sales are generated by each product.\n",
    "\n",
    "We now do this and add that to the table."
   ]
  },
  {
   "cell_type": "code",
   "execution_count": 9,
   "metadata": {},
   "outputs": [],
   "source": [
    "# add a \"percentage of total store sales for each item\" column\n",
    "\n",
    "sale_by_store_by_item = sale_by_store_by_item.withColumn(\"perc_of_store_total_sale\", \n",
    "                                                         sale_by_store_by_item[\"sum(Sale_Dollars)\"]/ sale_by_store_by_item[\"store_total_sale_dollars\"] )\n"
   ]
  },
  {
   "cell_type": "code",
   "execution_count": 15,
   "metadata": {},
   "outputs": [
    {
     "name": "stdout",
     "output_type": "stream",
     "text": [
      "+------------+-----------+-----------------+---------+------------------------+------------------------+\n",
      "|Store_Number|Item_Number|Sale_Dollars     |store_num|store_total_sale_dollars|perc_of_store_total_sale|\n",
      "+------------+-----------+-----------------+---------+------------------------+------------------------+\n",
      "|        2659|      28866|215.8800048828125|     2659|      131108.44009304047|    0.001646575954451...|\n",
      "|        2659|      87408|298.8999938964844|     2659|      131108.44009304047|    0.002279792160477...|\n",
      "|        2659|      81206|933.8399658203125|     2659|      131108.44009304047|    0.007122653317800269|\n",
      "|        2659|      12888|2262.480010986328|     2659|      131108.44009304047|    0.017256555027126936|\n",
      "|        2659|      43197|            38.25|     2659|      131108.44009304047|    2.917432315788066E-4|\n",
      "+------------+-----------+-----------------+---------+------------------------+------------------------+\n",
      "only showing top 5 rows\n",
      "\n"
     ]
    }
   ],
   "source": [
    "# Quick look at what the table now contains\n",
    "\n",
    "sale_by_store_by_item.show(5)"
   ]
  },
  {
   "cell_type": "markdown",
   "metadata": {},
   "source": [
    "The next step is take a look at each store, and rank the items it sells from most popular to least popular.\n",
    "\n",
    "This is done based on the total sales for each product, in USD"
   ]
  },
  {
   "cell_type": "code",
   "execution_count": 10,
   "metadata": {},
   "outputs": [],
   "source": [
    "# import some needed pyspark.sql functions\n",
    "\n",
    "from pyspark.sql.functions import *\n",
    "from pyspark.sql.window import Window\n",
    "\n",
    "# For each store, we can rank all items from most popular to least popular based on sales in US dollars \n",
    "\n",
    "ranked =  sale_by_store_by_item.withColumn(\"rank\", dense_rank().over(Window.partitionBy(\"store_num\").orderBy(desc(\"perc_of_store_total_sale\"))))"
   ]
  },
  {
   "cell_type": "code",
   "execution_count": 20,
   "metadata": {
    "scrolled": false
   },
   "outputs": [
    {
     "name": "stdout",
     "output_type": "stream",
     "text": [
      "+------------+-----------+------------------+---------+------------------------+------------------------+----+\n",
      "|Store_Number|Item_Number| Sale_Dollars     |store_num|store_total_sale_dollars|perc_of_store_total_sale|rank|\n",
      "+------------+-----------+------------------+---------+------------------------+------------------------+----+\n",
      "|        2659|      11776| 6132.840026855469|     2659|      131108.44009304047|     0.04677685145596522|   1|\n",
      "|        2659|      34433| 4931.760009765625|     2659|      131108.44009304047|    0.037615885035820924|   2|\n",
      "|        2659|      11788| 4882.559829711914|     2659|      131108.44009304047|     0.03724062178031429|   3|\n",
      "|        2659|      25608|  4727.40007019043|     2659|      131108.44009304047|     0.03605717577629368|   4|\n",
      "|        2659|      37998| 4516.200050354004|     2659|      131108.44009304047|     0.03444629535023912|   5|\n",
      "|        2659|      23828| 4490.279945373535|     2659|      131108.44009304047|     0.03424859560671326|   6|\n",
      "|        2659|      43336|3875.6400756835938|     2659|      131108.44009304047|    0.029560568891928426|   7|\n",
      "|        2659|      11296| 3169.949996948242|     2659|      131108.44009304047|     0.02417807728242898|   8|\n",
      "|        2659|      26826|3027.1000442504883|     2659|      131108.44009304047|    0.023088521548287215|   9|\n",
      "|        2659|      40118| 2819.579990386963|     2659|      131108.44009304047|     0.02150570923112243|  10|\n",
      "+------------+-----------+------------------+---------+------------------------+------------------------+----+\n",
      "only showing top 10 rows\n",
      "\n"
     ]
    }
   ],
   "source": [
    "# quick look at what this ranked list looks like\n",
    "\n",
    "ranked.show(10)"
   ]
  },
  {
   "cell_type": "markdown",
   "metadata": {},
   "source": [
    "\"ranked\" now contains an ordered ranking for each item, for each store in Iowa, just like what we wanted.\n",
    "\n",
    "We now need to convert this to a ranking based ratings system. To do this we create 10 buckets in which items get placed.\n",
    "\n",
    "The top 10% of items in each store in terms of total sales in USD will receive a rating of 9, the next highest 10% receive a rating of 8 and so on.\n",
    "\n",
    "If we compare the \"ranked\" table above to the \"ratings\" one after this process, we can see that the top 10 have all received this max rating of 9, as we would expect."
   ]
  },
  {
   "cell_type": "code",
   "execution_count": 11,
   "metadata": {},
   "outputs": [],
   "source": [
    "# use QuantileDiscretizer to place all of the ranked items into ten ratings buckets, \n",
    "# equally distributed based on their position in the ranking \n",
    "\n",
    "store_item_rated = QuantileDiscretizer(numBuckets=10, inputCol=\"perc_of_store_total_sale\",outputCol=\"rating\")\\\n",
    ".fit(sale_by_store_by_item).transform(sale_by_store_by_item)"
   ]
  },
  {
   "cell_type": "code",
   "execution_count": 23,
   "metadata": {},
   "outputs": [
    {
     "name": "stdout",
     "output_type": "stream",
     "text": [
      "+------------+-----------+------------------+---------+------------------------+------------------------+------+\n",
      "|Store_Number|Item_Number| Sale_Dollars     |store_num|store_total_sale_dollars|perc_of_store_total_sale|rating|\n",
      "+------------+-----------+------------------+---------+------------------------+------------------------+------+\n",
      "|        2659|      11776| 6132.840026855469|     2659|      131108.44009304047|     0.04677685145596522|   9.0|\n",
      "|        2659|      34433| 4931.760009765625|     2659|      131108.44009304047|    0.037615885035820924|   9.0|\n",
      "|        2659|      11788| 4882.559829711914|     2659|      131108.44009304047|     0.03724062178031429|   9.0|\n",
      "|        2659|      25608|  4727.40007019043|     2659|      131108.44009304047|     0.03605717577629368|   9.0|\n",
      "|        2659|      37998| 4516.200050354004|     2659|      131108.44009304047|     0.03444629535023912|   9.0|\n",
      "|        2659|      23828| 4490.279945373535|     2659|      131108.44009304047|     0.03424859560671326|   9.0|\n",
      "|        2659|      43336|3875.6400756835938|     2659|      131108.44009304047|    0.029560568891928426|   9.0|\n",
      "|        2659|      11296| 3169.949996948242|     2659|      131108.44009304047|     0.02417807728242898|   9.0|\n",
      "|        2659|      26826|3027.1000442504883|     2659|      131108.44009304047|    0.023088521548287215|   9.0|\n",
      "|        2659|      40118| 2819.579990386963|     2659|      131108.44009304047|     0.02150570923112243|   9.0|\n",
      "|        2659|      30056| 2674.199948310852|     2659|      131108.44009304047|    0.020396855811976096|   9.0|\n",
      "|        2659|      45248| 2588.760009765625|     2659|      131108.44009304047|     0.01974518198773873|   9.0|\n",
      "|        2659|      34006|2400.9900550842285|     2659|      131108.44009304047|    0.018313009089120254|   9.0|\n",
      "|        2659|      12888| 2262.480010986328|     2659|      131108.44009304047|    0.017256555027126936|   9.0|\n",
      "|        2659|      27102|2210.6399841308594|     2659|      131108.44009304047|    0.016861156936670816|   9.0|\n",
      "|        2659|      43338|2207.4000244140625|     2659|      131108.44009304047|    0.016836444876070465|   9.0|\n",
      "|        2659|      35318| 2113.199962615967|     2659|      131108.44009304047|    0.016117955191262627|   9.0|\n",
      "|        2659|      65256|1871.0800323486328|     2659|      131108.44009304047|    0.014271240135424005|   9.0|\n",
      "|        2659|      26827|1838.2400436401367|     2659|      131108.44009304047|    0.014020760542461177|   9.0|\n",
      "|        2659|      36306|1837.0800094604492|     2659|      131108.44009304047|    0.014011912643890618|   9.0|\n",
      "|        2659|       4866| 1826.130012512207|     2659|      131108.44009304047|    0.013928394016558375|   9.0|\n",
      "|        2659|      12478|           1559.25|     2659|      131108.44009304047|    0.011892827028477234|   9.0|\n",
      "|        2659|      43128|            1554.0|     2659|      131108.44009304047|    0.011852783839829163|   9.0|\n",
      "|        2659|      36308| 1546.199935913086|     2659|      131108.44009304047|    0.011793290613600717|   9.0|\n",
      "|        2659|      25606|1460.2800064086914|     2659|      131108.44009304047|     0.01113795576678672|   9.0|\n",
      "|        2659|      64866|1387.2600021362305|     2659|      131108.44009304047|    0.010581012184660028|   9.0|\n",
      "|        2659|      86670|1375.5300064086914|     2659|      131108.44009304047|    0.010491544292896424|   9.0|\n",
      "|        2659|      42716|1365.0800247192383|     2659|      131108.44009304047|     0.01041183941896125|   9.0|\n",
      "|        2659|      89199|1343.3099670410156|     2659|      131108.44009304047|    0.010245793223439638|   9.0|\n",
      "|        2659|      57148|1331.9699821472168|     2659|      131108.44009304047|     0.01015930005117894|   9.0|\n",
      "|        2659|      69636|1169.8200073242188|     2659|      131108.44009304047|    0.008922537759537538|   9.0|\n",
      "|        2659|      35316|1030.5599822998047|     2659|      131108.44009304047|    0.007860363387501772|   9.0|\n",
      "|        2659|      81208| 955.8000183105469|     2659|      131108.44009304047|    0.007290148655817032|   9.0|\n",
      "|        2659|      81206| 933.8399658203125|     2659|      131108.44009304047|    0.007122653317800269|   9.0|\n",
      "|        2659|      30238| 932.7000045776367|     2659|      131108.44009304047|    0.007113958521020849|   9.0|\n",
      "|        2659|      36907| 898.9499931335449|     2659|      131108.44009304047|    0.006856537935281737|   9.0|\n",
      "|        2659|      37336|  874.959981918335|     2659|      131108.44009304047|    0.006673559545803641|   9.0|\n",
      "|        2659|      41693|  844.959981918335|     2659|      131108.44009304047|    0.006444741324957518|   9.0|\n",
      "|        2659|      20248| 816.8399887084961|     2659|      131108.44009304047|    0.006230262431074...|   9.0|\n",
      "|        2659|      41846| 799.9299926757812|     2659|      131108.44009304047|    0.006101285257517478|   9.0|\n",
      "|        2659|      19066| 784.9400100708008|     2659|      131108.44009304047|    0.005986952552511279|   9.0|\n",
      "|        2659|      15626| 761.7000007629395|     2659|      131108.44009304047|    0.005809694633102208|   9.0|\n",
      "|        2659|      11586| 757.4000129699707|     2659|      131108.44009304047|    0.005776897447887302|   9.0|\n",
      "|        2659|      86886| 744.7200050354004|     2659|      131108.44009304047|    0.005680183552690532|   9.0|\n",
      "|        2659|      43126| 728.0100250244141|     2659|      131108.44009304047|    0.005552731956140927|   8.0|\n",
      "|        2659|      15248| 722.5199890136719|     2659|      131108.44009304047|    0.005510857947062287|   8.0|\n",
      "|        2659|      43316| 721.5600128173828|     2659|      131108.44009304047|    0.005503535945552637|   8.0|\n",
      "|        2659|      20246| 708.6300220489502|     2659|      131108.44009304047|    0.005404915362779653|   8.0|\n",
      "|        2659|      35918| 707.2799835205078|     2659|      131108.44009304047|    0.005394618248974...|   8.0|\n",
      "|        2659|      38006| 700.5599975585938|     2659|      131108.44009304047|    0.005343363074577386|   8.0|\n",
      "+------------+-----------+------------------+---------+------------------------+------------------------+------+\n",
      "only showing top 50 rows\n",
      "\n"
     ]
    }
   ],
   "source": [
    "# take a look at what these ratings looks like \n",
    "\n",
    "store_item_rated.filter(store_item_rated.Store_Number == 2659).sort('perc_of_store_total_sale',ascending=False)\\\n",
    ".show(50)"
   ]
  },
  {
   "cell_type": "markdown",
   "metadata": {},
   "source": [
    "We showed 50 above so we can see when the ratings start to drop under 9. We can see that towards the end of the 50, we start to have some 8s\n",
    "\n",
    "Next we want to take the important columns that the ALS recommender model needs and store them in \"ratings\". \n",
    "\n",
    "We take the store number, the item number, the rating it received and the percentage of total sales it generates for the store."
   ]
  },
  {
   "cell_type": "code",
   "execution_count": 12,
   "metadata": {},
   "outputs": [],
   "source": [
    "# carrying on with the important features, stored in \"ratings\"\n",
    "\n",
    "ratings = store_item_rated.select(\"Store_Number\",\"Item_Number\", \"rating\",\"perc_of_store_total_sale\")"
   ]
  },
  {
   "cell_type": "code",
   "execution_count": 23,
   "metadata": {},
   "outputs": [
    {
     "name": "stdout",
     "output_type": "stream",
     "text": [
      "+------------+-----------+------+------------------------+\n",
      "|Store_Number|Item_Number|rating|perc_of_store_total_sale|\n",
      "+------------+-----------+------+------------------------+\n",
      "|        2659|      28866|   7.0|    0.001646575954451...|\n",
      "|        2659|      87408|   7.0|    0.002279792160477...|\n",
      "|        2659|      81206|   9.0|    0.007122653317800269|\n",
      "|        2659|      12888|   9.0|    0.017256555027126936|\n",
      "|        2659|      43197|   4.0|    2.917432315788066E-4|\n",
      "+------------+-----------+------+------------------------+\n",
      "only showing top 5 rows\n",
      "\n"
     ]
    }
   ],
   "source": [
    "# quick look at what the \"ratings\" table looks like\n",
    "\n",
    "ratings.show(5)"
   ]
  },
  {
   "cell_type": "markdown",
   "metadata": {},
   "source": [
    "The next few lines are required to fix the Item Number column, casting it to INT so ALS can read it properly.\n",
    "\n",
    "We also drop any nulls here."
   ]
  },
  {
   "cell_type": "code",
   "execution_count": 13,
   "metadata": {},
   "outputs": [],
   "source": [
    "df = df.withColumn(\"Item_Number\", regexp_extract(\"Item_Number\", \"\\\\d+\", 0))"
   ]
  },
  {
   "cell_type": "code",
   "execution_count": 14,
   "metadata": {},
   "outputs": [],
   "source": [
    "ratings = ratings.withColumn(\"Item_Number\", regexp_extract(\"Item_Number\", \"\\\\d+\", 0))"
   ]
  },
  {
   "cell_type": "code",
   "execution_count": 15,
   "metadata": {},
   "outputs": [],
   "source": [
    "ratings = ratings.withColumn(\"Item_Number\", ratings[\"Item_Number\"].cast(IntegerType()))"
   ]
  },
  {
   "cell_type": "code",
   "execution_count": 16,
   "metadata": {},
   "outputs": [],
   "source": [
    "ratings = ratings.withColumnRenamed(\"Item_Number\", \"item_num\")"
   ]
  },
  {
   "cell_type": "code",
   "execution_count": 17,
   "metadata": {},
   "outputs": [],
   "source": [
    "ratings = ratings.dropna()"
   ]
  },
  {
   "cell_type": "markdown",
   "metadata": {},
   "source": [
    "## Training and test split\n",
    "\n",
    "It's time to split the ratings data into a training and test split of 0.8/0.2"
   ]
  },
  {
   "cell_type": "code",
   "execution_count": 80,
   "metadata": {},
   "outputs": [],
   "source": [
    "# split the data into training and test\n",
    "\n",
    "training, test = ratings.randomSplit([0.8,0.2], seed = 36)"
   ]
  },
  {
   "cell_type": "markdown",
   "metadata": {},
   "source": [
    "Now that we have our training and test split, we can create and train our ALS model. \n",
    "\n",
    "Alternating Least Square (ALS) runs itself in a parallel fashion. ALS is implemented in Apache Spark ML and built for a large-scale collaborative filtering problems.\n",
    "\n",
    "Our \"User\" we want to recommend items to are our liquor stores and the \"Items\" we want to recommend to the user are liquor products. We do not implement a \"cold start\" strategy as we know a lot about each store based on how the products within them currently rank"
   ]
  },
  {
   "cell_type": "code",
   "execution_count": 81,
   "metadata": {},
   "outputs": [],
   "source": [
    "# create our model\n",
    "\n",
    "als = ALS(maxIter=10, regParam=0.01, userCol=\"Store_Number\", itemCol=\"item_num\", ratingCol=\"rating\",\n",
    "          coldStartStrategy=\"drop\", nonnegative = True)"
   ]
  },
  {
   "cell_type": "code",
   "execution_count": 82,
   "metadata": {},
   "outputs": [],
   "source": [
    "# train out model by fitting it to the training data\n",
    "\n",
    "model = als.fit(training)"
   ]
  },
  {
   "cell_type": "code",
   "execution_count": 83,
   "metadata": {},
   "outputs": [],
   "source": [
    "# Apply model on the test set to predict \n",
    "\n",
    "predictions = model.transform(test)"
   ]
  },
  {
   "cell_type": "code",
   "execution_count": 84,
   "metadata": {},
   "outputs": [
    {
     "name": "stdout",
     "output_type": "stream",
     "text": [
      "+------------+--------+------+------------------------+------------+\n",
      "|Store_Number|item_num|rating|perc_of_store_total_sale|  prediction|\n",
      "+------------+--------+------+------------------------+------------+\n",
      "|        4174|   10623|   7.0|    0.001464883876655...|   4.5173454|\n",
      "|        2627|   10623|   0.0|    4.761695292000214E-6|   1.0178543|\n",
      "|        4129|   10623|   0.0|    1.676564976479242...|   0.2742364|\n",
      "|        2448|   10623|   0.0|    2.621142842165380...|0.0092287455|\n",
      "|        2622|   21220|   1.0|    4.289953009793906...|  0.17363909|\n",
      "|        4773|   21220|   2.0|    1.217239627645284E-4|   2.1917303|\n",
      "|        4327|   21220|   4.0|    2.430985772381577...|   5.1853323|\n",
      "|        2633|   21220|   0.0|    1.004612157969494...| 0.039267782|\n",
      "|        4288|   21220|   1.0|    5.051777354313654...|   1.9180535|\n",
      "|        2560|   21220|   0.0|    1.353293021502036...|   0.2180132|\n",
      "|        2190|   21220|   0.0|    1.834473321788793...|  0.39269286|\n",
      "|        2552|   21220|   0.0|     2.42789293926069E-5|   0.6219945|\n",
      "|        4764|   21220|   1.0|    3.936910775740758...|   1.6881311|\n",
      "|        2643|   21220|   0.0|    1.816380909402200...|   0.2513126|\n",
      "|        3704|   28088|   3.0|    1.844109761638780...|   3.8245268|\n",
      "|        2522|   28088|   6.0|      8.5264955166018E-4|   4.2683706|\n",
      "|        5105|   28088|   7.0|    0.001446855012935...|   5.9940004|\n",
      "|        2502|   28088|   5.0|    5.836124643232461E-4|    5.389751|\n",
      "|        5162|   28088|   4.0|    2.985016340210257E-4|   4.5473347|\n",
      "|        2616|   28088|   3.0|    1.293226323992068...|   3.6524608|\n",
      "|        2647|   28088|   7.0|    0.002255637974278...|     5.63868|\n",
      "|        2614|   28088|   7.0|    0.001814003210053...|   4.9374275|\n",
      "|        3925|   28088|   7.0|    0.001325583923085...|    5.772926|\n",
      "|        2651|   28088|   7.0|    0.001345388147756...|    4.365269|\n",
      "|        2613|   28088|   2.0|    7.577163405624376E-5|    4.663788|\n",
      "|        3762|   28088|   8.0|    0.003018352705991352|     4.04548|\n",
      "|        4308|   28088|   4.0|    2.722018171132083E-4|   4.0832767|\n",
      "|        2841|   28088|   5.0|    6.045224678459619E-4|   5.8181458|\n",
      "|        2413|   28088|   5.0|     6.36738003668639E-4|   3.4503565|\n",
      "|        2576|   28088|   8.0|    0.003295313545774532|     4.05543|\n",
      "|        2512|   28088|   3.0|    1.743441193995326...|   4.4733458|\n",
      "|        4344|   28088|   2.0|    1.272743260626437...|   5.3117805|\n",
      "|        3592|   28088|   3.0|    1.493727276021631...|     4.35705|\n",
      "|        3514|   28088|   3.0|    1.385824742116077E-4|    2.498181|\n",
      "|        5224|   28088|   1.0|    6.727905669432587E-5|   3.5954678|\n",
      "|        4582|   28088|   3.0|    2.092032982265234E-4|    3.802643|\n",
      "|        2573|   28088|   5.0|    4.499432040060609...|    4.255121|\n",
      "|        2604|   28088|   7.0|    0.001876834549706...|   3.8390238|\n",
      "|        2506|   28088|   6.0|    0.001074052675318...|   4.2088103|\n",
      "|        2353|   28088|   4.0|    3.204501022661411...|   2.7963228|\n",
      "|        3785|   28088|   5.0|    5.095548558096196E-4|    3.394503|\n",
      "|        2624|   28088|   4.0|     3.57769278385608E-4|   5.0392017|\n",
      "|        2548|   28088|   1.0|    3.624807978307168E-5|    4.985795|\n",
      "|        5215|   28088|   4.0|    3.262622221842804...|   5.5419674|\n",
      "|        2543|   28088|   4.0|    3.621345727805224E-4|   3.9923203|\n",
      "|        5326|   28088|   8.0|    0.002531896215842...|   3.5439174|\n",
      "|        2500|   28088|   3.0|    1.557296776546111...|   4.8407216|\n",
      "|        3838|   28088|   7.0|    0.001385813570090...|    6.226426|\n",
      "|        2572|   29993|   0.0|    2.299522868925578...|   0.6138649|\n",
      "|        2622|   29993|   2.0|    6.770759342846795E-5|   1.3225518|\n",
      "+------------+--------+------+------------------------+------------+\n",
      "only showing top 50 rows\n",
      "\n"
     ]
    }
   ],
   "source": [
    "# quick sample of predictions for sanity check\n",
    "\n",
    "predictions.show(50)"
   ]
  },
  {
   "cell_type": "code",
   "execution_count": 85,
   "metadata": {},
   "outputs": [],
   "source": [
    "df_alt = df.withColumnRenamed(\"Store_Number\", \"store_num_b\")"
   ]
  },
  {
   "cell_type": "markdown",
   "metadata": {},
   "source": [
    "We now want to create a table of predictions so we can evaluate how the model performed on the test data"
   ]
  },
  {
   "cell_type": "code",
   "execution_count": 86,
   "metadata": {},
   "outputs": [],
   "source": [
    "# create table of predictions\n",
    "\n",
    "predictions = predictions.join(df_alt,df_alt.store_num_b == predictions.Store_Number)"
   ]
  },
  {
   "cell_type": "code",
   "execution_count": 61,
   "metadata": {},
   "outputs": [
    {
     "name": "stdout",
     "output_type": "stream",
     "text": [
      "Root-mean-square error = 1.4468538985486474\n"
     ]
    }
   ],
   "source": [
    "# evaluate model performance\n",
    "\n",
    "evaluator = RegressionEvaluator(metricName='rmse', labelCol='rating')\n",
    "rmse = evaluator.evaluate(predictions)\n",
    "print(\"Root-mean-square error = \" + str(rmse))"
   ]
  },
  {
   "cell_type": "markdown",
   "metadata": {},
   "source": [
    "We can see that our RMSE is 1.447. With the range of our ratings system being between 1 and 10, we can see that this isn't too bad and it's likely that we can get some useful results. If a product actually had a rating of 8 and it received a 6.663, this seems pretty good at a glance.\n",
    "\n",
    "Next we can see that we could take two approaches using this ALS model. We can recommend products to stores as directly below:"
   ]
  },
  {
   "cell_type": "code",
   "execution_count": 88,
   "metadata": {},
   "outputs": [],
   "source": [
    "# get top 10 liquor recommendations for 3 different stores\n",
    "\n",
    "users = ratings.select(als.getUserCol()).distinct().limit(3)\n",
    "userSubsetRecs = model.recommendForUserSubset(users, 10)"
   ]
  },
  {
   "cell_type": "code",
   "execution_count": 89,
   "metadata": {},
   "outputs": [
    {
     "name": "stdout",
     "output_type": "stream",
     "text": [
      "+------------+------------------------------------------------------------------------------------------------------------------------------------------------------------------------------------------------------------------+\n",
      "|Store_Number|recommendations                                                                                                                                                                                                   |\n",
      "+------------+------------------------------------------------------------------------------------------------------------------------------------------------------------------------------------------------------------------+\n",
      "|3918        |[[902767, 24.220943], [904827, 19.688126], [904984, 18.685905], [901610, 15.277443], [904605, 14.816101], [988063, 14.655827], [903032, 14.406505], [902551, 14.207243], [973448, 13.987808], [902585, 13.973974]]|\n",
      "|2659        |[[989640, 21.285685], [902576, 20.985794], [965269, 20.293386], [965221, 20.22396], [967286, 19.780384], [902767, 19.57024], [904984, 19.473003], [988063, 19.016941], [927080, 18.828728], [903209, 18.034904]]  |\n",
      "|3749        |[[966931, 18.390692], [904605, 15.882501], [902059, 15.61244], [957049, 14.951017], [989640, 14.594672], [903717, 14.543578], [988037, 14.034143], [903464, 13.68769], [904046, 13.437189], [927080, 13.0898]]    |\n",
      "+------------+------------------------------------------------------------------------------------------------------------------------------------------------------------------------------------------------------------------+\n",
      "\n"
     ]
    }
   ],
   "source": [
    "userSubsetRecs.show(truncate=False)"
   ]
  },
  {
   "cell_type": "markdown",
   "metadata": {},
   "source": [
    "The other approach that's possible is a reverse if the previous, in that we can actually take the liquor product itself and recommend a list of stores that it would probably sell well in "
   ]
  },
  {
   "cell_type": "code",
   "execution_count": 90,
   "metadata": {},
   "outputs": [],
   "source": [
    "# get top 10 store recommendation for 3 different liquor items\n",
    "\n",
    "liquorRecs = model.recommendForAllItems(10)"
   ]
  },
  {
   "cell_type": "code",
   "execution_count": 91,
   "metadata": {},
   "outputs": [],
   "source": [
    "liquors = ratings.select(als.getItemCol()).distinct().limit(3)\n",
    "liquorSubsetRecs = model.recommendForItemSubset(liquors, 10)"
   ]
  },
  {
   "cell_type": "code",
   "execution_count": 92,
   "metadata": {},
   "outputs": [
    {
     "name": "stdout",
     "output_type": "stream",
     "text": [
      "+--------+---------------------------------------------------------------------------------------------------------------------------------------------------------------------------------------------+\n",
      "|item_num|recommendations                                                                                                                                                                              |\n",
      "+--------+---------------------------------------------------------------------------------------------------------------------------------------------------------------------------------------------+\n",
      "|65251   |[[5304, 10.073424], [3569, 9.652113], [5424, 9.438894], [4338, 9.427406], [4693, 9.412919], [5208, 9.393775], [5433, 9.390767], [4857, 9.263572], [4834, 9.244173], [5410, 9.237768]]        |\n",
      "|43302   |[[4990, 9.792597], [5304, 9.735309], [5285, 9.4549465], [4832, 9.453925], [5492, 9.427067], [5256, 9.3855095], [4465, 9.202315], [5461, 9.163044], [5365, 9.162868], [5310, 9.162399]]       |\n",
      "|69637   |[[5417, 11.29587], [5407, 11.068464], [5103, 11.019497], [3832, 10.813314], [5457, 10.713944], [5396, 10.697372], [5418, 10.673255], [5331, 10.604743], [5445, 10.394914], [4789, 10.328419]]|\n",
      "+--------+---------------------------------------------------------------------------------------------------------------------------------------------------------------------------------------------+\n",
      "\n"
     ]
    }
   ],
   "source": [
    "liquorSubsetRecs.show(truncate=False)"
   ]
  },
  {
   "cell_type": "markdown",
   "metadata": {},
   "source": [
    "We can see how both approaches can be useful depending on the use case. \n",
    "\n",
    "If we take the perspective of the store who is purchasing the liquor, it's of course useful to know what liquor is likely to sell well in your store.\n",
    "\n",
    "If you look from the perspective of the company who makes the liquor however, it would be very useful to identify which stores you should be selling it to.\n",
    "\n",
    "Now we want to get a list of the top stores in terms of total sales so we can use one of them for a small case study. "
   ]
  },
  {
   "cell_type": "code",
   "execution_count": 93,
   "metadata": {},
   "outputs": [],
   "source": [
    "# get list of top stores\n",
    "\n",
    "top_stores = df.groupBy(df['Store_Number']).agg({'Sale_Dollars':\"sum\"}).sort(\"sum(Sale_Dollars)\", ascending=False).dropna().limit(20)"
   ]
  },
  {
   "cell_type": "code",
   "execution_count": 95,
   "metadata": {},
   "outputs": [],
   "source": [
    "top20_store_list = [row.Store_Number for row in top_stores.select(\"Store_Number\").collect()]"
   ]
  },
  {
   "cell_type": "code",
   "execution_count": 96,
   "metadata": {},
   "outputs": [
    {
     "data": {
      "text/plain": [
       "[2633,\n",
       " 4829,\n",
       " 2512,\n",
       " 3385,\n",
       " 3420,\n",
       " 3952,\n",
       " 3814,\n",
       " 2190,\n",
       " 3354,\n",
       " 3773,\n",
       " 2625,\n",
       " 3494,\n",
       " 3447,\n",
       " 2616,\n",
       " 3524,\n",
       " 3820,\n",
       " 2619,\n",
       " 2629,\n",
       " 2593,\n",
       " 2648]"
      ]
     },
     "execution_count": 96,
     "metadata": {},
     "output_type": "execute_result"
    }
   ],
   "source": [
    "# display list of top 20 stores\n",
    "\n",
    "top20_store_list"
   ]
  },
  {
   "cell_type": "code",
   "execution_count": 97,
   "metadata": {},
   "outputs": [],
   "source": [
    "# collect all of the recommendations for these top 20 stores\n",
    "\n",
    "rec_liquor_top20_store = {}\n",
    "for store in top20_store_list:\n",
    "    rec_liquor = userRecs.where(userRecs.Store_Number == store).select(\"recommendations\").collect()\n",
    "    rec_liquor_top10_store[store] = [i.item_num for i in rec_liquor[0][\"recommendations\"]]"
   ]
  },
  {
   "cell_type": "code",
   "execution_count": 98,
   "metadata": {},
   "outputs": [],
   "source": [
    "# create list of all individual liquor products\n",
    "\n",
    "liquor_product_list = df.select('Item_Number','Item_Description','Category_Name').dropDuplicates()\n",
    "liquor_product_list = liquor_product_list.dropDuplicates(['Item_Number'])"
   ]
  },
  {
   "cell_type": "markdown",
   "metadata": {},
   "source": [
    "Now that we have our list of top 20 stores, we want to grab one at random to use in our small case study"
   ]
  },
  {
   "cell_type": "code",
   "execution_count": 113,
   "metadata": {},
   "outputs": [
    {
     "name": "stdout",
     "output_type": "stream",
     "text": [
      "+-----------+--------------------------+\n",
      "|store_num_b|Store_Name                |\n",
      "+-----------+--------------------------+\n",
      "|3494       |Sam's Club 6514 / Waterloo|\n",
      "+-----------+--------------------------+\n",
      "only showing top 1 row\n",
      "\n"
     ]
    }
   ],
   "source": [
    "# Find the name of a store to use in our example\n",
    "\n",
    "df_alt.filter(df_alt.store_num_b==3494).select('store_num_b', \"Store_Name\")\\\n",
    ".show(1, truncate = False)"
   ]
  },
  {
   "cell_type": "markdown",
   "metadata": {},
   "source": [
    "We went with 3494 which turns out to be \"Sam's Club\" in Waterloo\n",
    "\n",
    "Next we want to get a list of the top 10 products that our model recommends for this store to stock, along with the top 10 products currently sell the best in the store."
   ]
  },
  {
   "cell_type": "code",
   "execution_count": 114,
   "metadata": {},
   "outputs": [],
   "source": [
    "sam_recommend = liquor_product_list.filter(liquor_product_list[\"Item_Number\"].isin(rec_liquor_top10_store[3494]))"
   ]
  },
  {
   "cell_type": "code",
   "execution_count": 115,
   "metadata": {},
   "outputs": [
    {
     "name": "stdout",
     "output_type": "stream",
     "text": [
      "+-----------+--------------------+--------------------+\n",
      "|Item_Number|    Item_Description|       Category_Name|\n",
      "+-----------+--------------------+--------------------+\n",
      "|     904476|8 Seconds Canadia...| Special Order Items|\n",
      "|     967286|Ice Hole Salty Ca...|   American Schnapps|\n",
      "|     903037|     Agavero Liqueur| Special Order Items|\n",
      "|       1016|Glenlivet w/2 Gla...|DECANTERS & SPECI...|\n",
      "|     977256|  Revel Stoke Spiced|   CANADIAN WHISKIES|\n",
      "|     902585|     Belvedere Vodka|      IMPORTED VODKA|\n",
      "|     904605|      Sobieski Vodka|      IMPORTED VODKA|\n",
      "|     902120|       Fernet Branca|MISC. IMPORTED CO...|\n",
      "|     904884|Ice Hole Exotic S...| Special Order Items|\n",
      "|      80504|Tres Leches Cream...|      CREAM LIQUEURS|\n",
      "+-----------+--------------------+--------------------+\n",
      "\n"
     ]
    }
   ],
   "source": [
    "# Take a quick look at the recommended items for Sam's Club, Waterloo\n",
    "\n",
    "sam_recommend.show(10)"
   ]
  },
  {
   "cell_type": "code",
   "execution_count": 116,
   "metadata": {},
   "outputs": [],
   "source": [
    "sam_actual = sale_by_store_by_item.join(liquor_product_list ,sale_by_store_by_item[\"Item_Number\"] == liquor_product_list[\"Item_Number\"], how='inner')\\\n",
    ".filter(sale_by_store_by_item.store_num==3494)\\\n",
    ".select(\"store_num\", sale_by_store_by_item.Item_Number, \"Item_Description\",\"Category_Name\",'sum(Sale_Dollars)')\\\n",
    ".dropDuplicates([\"Item_Number\"])\\\n",
    ".sort(\"sum(Sale_Dollars)\", ascending=False)"
   ]
  },
  {
   "cell_type": "code",
   "execution_count": 117,
   "metadata": {},
   "outputs": [
    {
     "name": "stdout",
     "output_type": "stream",
     "text": [
      "+---------+-----------+--------------------+--------------------+------------------+\n",
      "|store_num|Item_Number|    Item_Description|       Category_Name|      Sale_Dollars|\n",
      "+---------+-----------+--------------------+--------------------+------------------+\n",
      "|     3494|      43337|Captain Morgan Sp...|          SPICED RUM|         371714.27|\n",
      "|     3494|      77487|   Tortilla Gold Dss|DISTILLED SPIRITS...|         325368.19|\n",
      "|     3494|      11788|        Black Velvet|   CANADIAN WHISKIES|         308781.77|\n",
      "|     3494|      26827|Jack Daniels Old ...|  TENNESSEE WHISKIES|         302438.88|\n",
      "|     3494|      11297|Crown Royal Canad...|   CANADIAN WHISKIES|         274505.39|\n",
      "|     3494|      43338|Captain Morgan Sp...|          SPICED RUM|         221117.39|\n",
      "|     3494|      65257|Jagermeister Liqueur|MISC. IMPORTED CO...|         212291.51|\n",
      "|     3494|      34007|Absolut Swedish V...|     Imported Vodkas|         208327.44|\n",
      "|     3494|      88296|Patron Tequila Si...|             TEQUILA|         159508.68|\n",
      "|     3494|      69637|Dr. Mcgillicuddy'...|   IMPORTED SCHNAPPS|         157408.55|\n",
      "+---------+-----------+--------------------+--------------------+------------------+\n",
      "only showing top 10 rows\n",
      "\n"
     ]
    }
   ],
   "source": [
    "# Take a quick look at the actual best selling items for Sam's Club, Waterloo\n",
    "\n",
    "sam_actual.show(10)"
   ]
  },
  {
   "cell_type": "code",
   "execution_count": 135,
   "metadata": {},
   "outputs": [],
   "source": [
    "# convert to pandas for output\n",
    "\n",
    "sam_recommend_pd = sam_recommend.toPandas()\n",
    "sam_recommend_pd['Category_Name'] = sam_recommend_pd['Category_Name'].str.title()\n"
   ]
  },
  {
   "cell_type": "code",
   "execution_count": 136,
   "metadata": {},
   "outputs": [],
   "source": [
    "# convert to pandas for output\n",
    "\n",
    "sam_actual_pd = sam_actual.toPandas()\n",
    "sam_actual_pd['Category_Name'] = sam_actual_pd['Category_Name'].str.title()\n"
   ]
  },
  {
   "cell_type": "markdown",
   "metadata": {},
   "source": [
    "## List of 10 highest recommended new items for Sam's Club, Waterloo"
   ]
  },
  {
   "cell_type": "code",
   "execution_count": 137,
   "metadata": {},
   "outputs": [
    {
     "data": {
      "text/html": [
       "<div>\n",
       "<style scoped>\n",
       "    .dataframe tbody tr th:only-of-type {\n",
       "        vertical-align: middle;\n",
       "    }\n",
       "\n",
       "    .dataframe tbody tr th {\n",
       "        vertical-align: top;\n",
       "    }\n",
       "\n",
       "    .dataframe thead th {\n",
       "        text-align: right;\n",
       "    }\n",
       "</style>\n",
       "<table border=\"1\" class=\"dataframe\">\n",
       "  <thead>\n",
       "    <tr style=\"text-align: right;\">\n",
       "      <th></th>\n",
       "      <th>Item_Number</th>\n",
       "      <th>Item_Description</th>\n",
       "      <th>Category_Name</th>\n",
       "    </tr>\n",
       "  </thead>\n",
       "  <tbody>\n",
       "    <tr>\n",
       "      <th>0</th>\n",
       "      <td>904476</td>\n",
       "      <td>8 Seconds Canadian Whiskey</td>\n",
       "      <td>Special Order Items</td>\n",
       "    </tr>\n",
       "    <tr>\n",
       "      <th>1</th>\n",
       "      <td>967286</td>\n",
       "      <td>Ice Hole Salty Caramel Schnapps</td>\n",
       "      <td>American Schnapps</td>\n",
       "    </tr>\n",
       "    <tr>\n",
       "      <th>2</th>\n",
       "      <td>903037</td>\n",
       "      <td>Agavero Liqueur</td>\n",
       "      <td>Special Order Items</td>\n",
       "    </tr>\n",
       "    <tr>\n",
       "      <th>3</th>\n",
       "      <td>1016</td>\n",
       "      <td>Glenlivet w/2 Glasses</td>\n",
       "      <td>Decanters &amp; Specialty Packages</td>\n",
       "    </tr>\n",
       "    <tr>\n",
       "      <th>4</th>\n",
       "      <td>977256</td>\n",
       "      <td>Revel Stoke Spiced</td>\n",
       "      <td>Canadian Whiskies</td>\n",
       "    </tr>\n",
       "    <tr>\n",
       "      <th>5</th>\n",
       "      <td>902585</td>\n",
       "      <td>Belvedere Vodka</td>\n",
       "      <td>Imported Vodka</td>\n",
       "    </tr>\n",
       "    <tr>\n",
       "      <th>6</th>\n",
       "      <td>904605</td>\n",
       "      <td>Sobieski Vodka</td>\n",
       "      <td>Imported Vodka</td>\n",
       "    </tr>\n",
       "    <tr>\n",
       "      <th>7</th>\n",
       "      <td>902120</td>\n",
       "      <td>Fernet Branca</td>\n",
       "      <td>Misc. Imported Cordials &amp; Liqueurs</td>\n",
       "    </tr>\n",
       "    <tr>\n",
       "      <th>8</th>\n",
       "      <td>904884</td>\n",
       "      <td>Ice Hole Exotic Schnapps</td>\n",
       "      <td>Special Order Items</td>\n",
       "    </tr>\n",
       "    <tr>\n",
       "      <th>9</th>\n",
       "      <td>80504</td>\n",
       "      <td>Tres Leches Cream Liqueur</td>\n",
       "      <td>Cream Liqueurs</td>\n",
       "    </tr>\n",
       "  </tbody>\n",
       "</table>\n",
       "</div>"
      ],
      "text/plain": [
       "  Item_Number                 Item_Description  \\\n",
       "0      904476       8 Seconds Canadian Whiskey   \n",
       "1      967286  Ice Hole Salty Caramel Schnapps   \n",
       "2      903037                  Agavero Liqueur   \n",
       "3        1016            Glenlivet w/2 Glasses   \n",
       "4      977256               Revel Stoke Spiced   \n",
       "5      902585                  Belvedere Vodka   \n",
       "6      904605                   Sobieski Vodka   \n",
       "7      902120                    Fernet Branca   \n",
       "8      904884         Ice Hole Exotic Schnapps   \n",
       "9       80504        Tres Leches Cream Liqueur   \n",
       "\n",
       "                        Category_Name  \n",
       "0                 Special Order Items  \n",
       "1                   American Schnapps  \n",
       "2                 Special Order Items  \n",
       "3      Decanters & Specialty Packages  \n",
       "4                   Canadian Whiskies  \n",
       "5                      Imported Vodka  \n",
       "6                      Imported Vodka  \n",
       "7  Misc. Imported Cordials & Liqueurs  \n",
       "8                 Special Order Items  \n",
       "9                      Cream Liqueurs  "
      ]
     },
     "execution_count": 137,
     "metadata": {},
     "output_type": "execute_result"
    }
   ],
   "source": [
    "sam_recommend_pd"
   ]
  },
  {
   "cell_type": "markdown",
   "metadata": {},
   "source": [
    "## List of actual top 10 best selling items in Sam's Club, Waterloo"
   ]
  },
  {
   "cell_type": "code",
   "execution_count": 138,
   "metadata": {},
   "outputs": [
    {
     "data": {
      "text/html": [
       "<div>\n",
       "<style scoped>\n",
       "    .dataframe tbody tr th:only-of-type {\n",
       "        vertical-align: middle;\n",
       "    }\n",
       "\n",
       "    .dataframe tbody tr th {\n",
       "        vertical-align: top;\n",
       "    }\n",
       "\n",
       "    .dataframe thead th {\n",
       "        text-align: right;\n",
       "    }\n",
       "</style>\n",
       "<table border=\"1\" class=\"dataframe\">\n",
       "  <thead>\n",
       "    <tr style=\"text-align: right;\">\n",
       "      <th></th>\n",
       "      <th>Store_Num</th>\n",
       "      <th>Item_Number</th>\n",
       "      <th>Item_Description</th>\n",
       "      <th>Category_Name</th>\n",
       "      <th>Total_Sales_USD</th>\n",
       "    </tr>\n",
       "  </thead>\n",
       "  <tbody>\n",
       "    <tr>\n",
       "      <th>0</th>\n",
       "      <td>3494</td>\n",
       "      <td>43337</td>\n",
       "      <td>Captain Morgan Spiced Rum</td>\n",
       "      <td>Spiced Rum</td>\n",
       "      <td>371714.28</td>\n",
       "    </tr>\n",
       "    <tr>\n",
       "      <th>1</th>\n",
       "      <td>3494</td>\n",
       "      <td>77487</td>\n",
       "      <td>Tortilla Gold Dss</td>\n",
       "      <td>Distilled Spirits Specialty</td>\n",
       "      <td>325368.20</td>\n",
       "    </tr>\n",
       "    <tr>\n",
       "      <th>2</th>\n",
       "      <td>3494</td>\n",
       "      <td>11788</td>\n",
       "      <td>Black Velvet</td>\n",
       "      <td>Canadian Whiskies</td>\n",
       "      <td>308781.78</td>\n",
       "    </tr>\n",
       "    <tr>\n",
       "      <th>3</th>\n",
       "      <td>3494</td>\n",
       "      <td>26827</td>\n",
       "      <td>Jack Daniels Old #7 Black Lbl</td>\n",
       "      <td>Tennessee Whiskies</td>\n",
       "      <td>302438.88</td>\n",
       "    </tr>\n",
       "    <tr>\n",
       "      <th>4</th>\n",
       "      <td>3494</td>\n",
       "      <td>11297</td>\n",
       "      <td>Crown Royal Canadian Whisky</td>\n",
       "      <td>Canadian Whiskies</td>\n",
       "      <td>274505.40</td>\n",
       "    </tr>\n",
       "    <tr>\n",
       "      <th>5</th>\n",
       "      <td>3494</td>\n",
       "      <td>43338</td>\n",
       "      <td>Captain Morgan Spiced Rum</td>\n",
       "      <td>Spiced Rum</td>\n",
       "      <td>221117.40</td>\n",
       "    </tr>\n",
       "    <tr>\n",
       "      <th>6</th>\n",
       "      <td>3494</td>\n",
       "      <td>65257</td>\n",
       "      <td>Jagermeister Liqueur</td>\n",
       "      <td>Misc. Imported Cordials &amp; Liqueurs</td>\n",
       "      <td>212291.52</td>\n",
       "    </tr>\n",
       "    <tr>\n",
       "      <th>7</th>\n",
       "      <td>3494</td>\n",
       "      <td>34007</td>\n",
       "      <td>Absolut Swedish Vodka 80 Prf</td>\n",
       "      <td>Imported Vodkas</td>\n",
       "      <td>208327.44</td>\n",
       "    </tr>\n",
       "    <tr>\n",
       "      <th>8</th>\n",
       "      <td>3494</td>\n",
       "      <td>88296</td>\n",
       "      <td>Patron Tequila Silver</td>\n",
       "      <td>Tequila</td>\n",
       "      <td>159508.68</td>\n",
       "    </tr>\n",
       "    <tr>\n",
       "      <th>9</th>\n",
       "      <td>3494</td>\n",
       "      <td>69637</td>\n",
       "      <td>Dr. Mcgillicuddy's Cherry Schnapps</td>\n",
       "      <td>Imported Schnapps</td>\n",
       "      <td>157408.56</td>\n",
       "    </tr>\n",
       "  </tbody>\n",
       "</table>\n",
       "</div>"
      ],
      "text/plain": [
       "   Store_Num  Item_Number                    Item_Description  \\\n",
       "0       3494        43337           Captain Morgan Spiced Rum   \n",
       "1       3494        77487                   Tortilla Gold Dss   \n",
       "2       3494        11788                        Black Velvet   \n",
       "3       3494        26827       Jack Daniels Old #7 Black Lbl   \n",
       "4       3494        11297         Crown Royal Canadian Whisky   \n",
       "5       3494        43338           Captain Morgan Spiced Rum   \n",
       "6       3494        65257                Jagermeister Liqueur   \n",
       "7       3494        34007        Absolut Swedish Vodka 80 Prf   \n",
       "8       3494        88296               Patron Tequila Silver   \n",
       "9       3494        69637  Dr. Mcgillicuddy's Cherry Schnapps   \n",
       "\n",
       "                        Category_Name  Total_Sales_USD  \n",
       "0                          Spiced Rum        371714.28  \n",
       "1         Distilled Spirits Specialty        325368.20  \n",
       "2                   Canadian Whiskies        308781.78  \n",
       "3                  Tennessee Whiskies        302438.88  \n",
       "4                   Canadian Whiskies        274505.40  \n",
       "5                          Spiced Rum        221117.40  \n",
       "6  Misc. Imported Cordials & Liqueurs        212291.52  \n",
       "7                     Imported Vodkas        208327.44  \n",
       "8                             Tequila        159508.68  \n",
       "9                   Imported Schnapps        157408.56  "
      ]
     },
     "execution_count": 138,
     "metadata": {},
     "output_type": "execute_result"
    }
   ],
   "source": [
    "sam_actual_pd = sam_actual_pd.rename(columns={\"store_num\":\"Store_Num\", \"sum(Sale_Dollars)\":\"Total_Sales_USD\"})\n",
    "sam_actual_pd.round(2).head(10)"
   ]
  },
  {
   "cell_type": "markdown",
   "metadata": {},
   "source": [
    "## Thoughts on this recommendation example\n",
    "\n",
    "It's clear to see why certain products may have been recommended to Sam's Club in this case.\n",
    "\n",
    "Two of the recommneded products are Canadian Whiskeys, \"8 Seconds Canadian Whiskey\" and \"Revel Stoke Spiced\".\n",
    "\n",
    "We can see that two of Sam's Club's biggest current sellers are also Canadian Whiskeys, \"Black Velvet\" and \"Crown Royal\".\n",
    "\n",
    "This makes intuitive sense and serves as a nice sanity check for our system. It's likely that if certain types of liqour already sell well, than other products of that same type may also sell well.\n",
    "\n",
    "A second cofirmation that the recommender is doing its job is the presence of two sweet schnapps in the recommendations, \"Ice Hole Salty Caramel Schnapps\" and \"Ice Hole Exotic Schnapps\", and the presence of another sweet schnapps in the actual best selling list - \"Dr. Mcgillicuddy's Cherry Schnapps\""
   ]
  }
 ],
 "metadata": {
  "kernelspec": {
   "display_name": "Python 3",
   "language": "python",
   "name": "python3"
  },
  "language_info": {
   "codemirror_mode": {
    "name": "ipython",
    "version": 3
   },
   "file_extension": ".py",
   "mimetype": "text/x-python",
   "name": "python",
   "nbconvert_exporter": "python",
   "pygments_lexer": "ipython3",
   "version": "3.8.3"
  }
 },
 "nbformat": 4,
 "nbformat_minor": 4
}
