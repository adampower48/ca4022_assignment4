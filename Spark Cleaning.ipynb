{
 "cells": [
  {
   "cell_type": "code",
   "execution_count": 1,
   "metadata": {},
   "outputs": [],
   "source": [
    "import pyspark\n",
    "import pyspark.sql.types as stypes\n",
    "import pyspark.sql.functions as F\n",
    "from pyspark.sql.types import StructType, StructField, LongType\n",
    "from pyspark.sql.functions import pandas_udf\n",
    "\n",
    "import numpy as np\n",
    "import pandas as pd"
   ]
  },
  {
   "cell_type": "code",
   "execution_count": 2,
   "metadata": {},
   "outputs": [
    {
     "data": {
      "text/html": [
       "\n",
       "            <div>\n",
       "                <p><b>SparkSession - in-memory</b></p>\n",
       "                \n",
       "        <div>\n",
       "            <p><b>SparkContext</b></p>\n",
       "\n",
       "            <p><a href=\"http://ca4022-m.c.praxis-works-296812.internal:4041\">Spark UI</a></p>\n",
       "\n",
       "            <dl>\n",
       "              <dt>Version</dt>\n",
       "                <dd><code>v3.0.0</code></dd>\n",
       "              <dt>Master</dt>\n",
       "                <dd><code>local</code></dd>\n",
       "              <dt>AppName</dt>\n",
       "                <dd><code>pyspark-shell</code></dd>\n",
       "            </dl>\n",
       "        </div>\n",
       "        \n",
       "            </div>\n",
       "        "
      ],
      "text/plain": [
       "<pyspark.sql.session.SparkSession at 0x7f0adb282670>"
      ]
     },
     "execution_count": 2,
     "metadata": {},
     "output_type": "execute_result"
    }
   ],
   "source": [
    "spark = pyspark.sql.SparkSession.builder.master(\"local\").getOrCreate()\n",
    "spark"
   ]
  },
  {
   "cell_type": "markdown",
   "metadata": {},
   "source": [
    "# Load data"
   ]
  },
  {
   "cell_type": "code",
   "execution_count": 3,
   "metadata": {},
   "outputs": [],
   "source": [
    "def save_parquet(filename, df, host=\"hdfs://ca4022-m\"):\n",
    "    df.write.save(host + filename, format=\"parquet\", mode=\"overwrite\")\n",
    "    \n",
    "def read_parquet(filename, host=\"hdfs://ca4022-m\"):\n",
    "    return spark.read.load(host + filename)"
   ]
  },
  {
   "cell_type": "code",
   "execution_count": null,
   "metadata": {},
   "outputs": [],
   "source": [
    "# hdfs://HOST/path_to_file\n",
    "file = \"hdfs://ca4022-m/user/adam/input/Iowa_Liquor_Sales.csv\"\n",
    "df = spark.read.format(\"csv\") \\\n",
    "    .option(\"inferSchema\", True) \\\n",
    "    .option(\"header\", True) \\\n",
    "    .option(\"multiLine\", True).load(file)#.toDF(*columns)"
   ]
  },
  {
   "cell_type": "code",
   "execution_count": 5,
   "metadata": {},
   "outputs": [
    {
     "name": "stdout",
     "output_type": "stream",
     "text": [
      "-RECORD 0--------------------------------------------------------------\n",
      " Invoice/Item Number   | S29198800001                                  \n",
      " Date                  | 11/20/2015                                    \n",
      " Store Number          | 2191                                          \n",
      " Store Name            | Keokuk Spirits                                \n",
      " Address               | 1013 MAIN                                     \n",
      " City                  | KEOKUK                                        \n",
      " Zip Code              | 52632                                         \n",
      " Store Location        | 1013 MAIN\n",
      "KEOKUK 52632\n",
      "(40.39978, -91.387531) \n",
      " County Number         | 56                                            \n",
      " County                | Lee                                           \n",
      " Category              | null                                          \n",
      " Category Name         | null                                          \n",
      " Vendor Number         | 255                                           \n",
      " Vendor Name           | Wilson Daniels Ltd.                           \n",
      " Item Number           | 297                                           \n",
      " Item Description      | Templeton Rye w/Flask                         \n",
      " Pack                  | 6                                             \n",
      " Bottle Volume (ml)    | 750                                           \n",
      " State Bottle Cost     | $18.09                                        \n",
      " State Bottle Retail   | $27.14                                        \n",
      " Bottles Sold          | 6                                             \n",
      " Sale (Dollars)        | $162.84                                       \n",
      " Volume Sold (Liters)  | 4.5                                           \n",
      " Volume Sold (Gallons) | 1.19                                          \n",
      "only showing top 1 row\n",
      "\n"
     ]
    }
   ],
   "source": [
    "df.show(1, truncate=False, vertical=True)"
   ]
  },
  {
   "cell_type": "markdown",
   "metadata": {},
   "source": [
    "# Fix column names"
   ]
  },
  {
   "cell_type": "code",
   "execution_count": 8,
   "metadata": {},
   "outputs": [],
   "source": [
    "df2 = df\n",
    "for col in df.columns:\n",
    "    df2 = df2.withColumnRenamed(col, \n",
    "                                col.replace(\" \", \"_\") # Replace spaces\n",
    "                                .replace(\"(\", \"\") # Remove brackets\n",
    "                                .replace(\")\", \"\"))"
   ]
  },
  {
   "cell_type": "markdown",
   "metadata": {},
   "source": [
    "# Save as parquet format"
   ]
  },
  {
   "cell_type": "code",
   "execution_count": 9,
   "metadata": {},
   "outputs": [],
   "source": [
    "save_parquet(\"/user/adam/parquet/iowa\", df2)"
   ]
  },
  {
   "cell_type": "code",
   "execution_count": 4,
   "metadata": {},
   "outputs": [],
   "source": [
    "df = read_parquet(\"/user/adam/parquet/iowa\")"
   ]
  },
  {
   "cell_type": "markdown",
   "metadata": {},
   "source": [
    "# Data cleaning"
   ]
  },
  {
   "cell_type": "code",
   "execution_count": 5,
   "metadata": {},
   "outputs": [],
   "source": [
    "@pandas_udf(\"string\")\n",
    "def clean_location(s: pd.Series) -> pd.Series:\n",
    "    # Remove newlines\n",
    "    return s.str.replace(\"\\n\", \" \")\n",
    "\n",
    "@pandas_udf(\"float\")\n",
    "def get_lat(s: pd.Series) -> pd.Series:\n",
    "    latlong = s.str.extract(r\"\\(([-]?[\\d\\.]+), ([-]?[\\d\\.]+)\\)\")\n",
    "    return latlong[0].astype(float)\n",
    "\n",
    "@pandas_udf(\"float\")\n",
    "def get_lon(s: pd.Series) -> pd.Series:\n",
    "    latlong = s.str.extract(r\"\\(([-]?[\\d\\.]+), ([-]?[\\d\\.]+)\\)\")\n",
    "    return latlong[1].astype(float)\n",
    "\n",
    "@pandas_udf(\"float\")\n",
    "def parse_dollar(s: pd.Series) -> pd.Series:\n",
    "    # Remove dollar sign\n",
    "    return s.str.slice(start=1).astype(float)"
   ]
  },
  {
   "cell_type": "markdown",
   "metadata": {},
   "source": [
    "- Extract location coordinates\n",
    "- Parse date\n",
    "- Parse prices\n",
    "- Fix newlines in location\n",
    "- Split invoice & item numbers"
   ]
  },
  {
   "cell_type": "code",
   "execution_count": 6,
   "metadata": {},
   "outputs": [],
   "source": [
    "df2 = df.withColumn(\"lat\", get_lat(\"Store_Location\")) \\\n",
    "    .withColumn(\"lon\", get_lon(\"Store_Location\")) \\\n",
    "    .withColumn(\"Date\", F.to_date(\"Date\", format=\"M/d/y\")) \\\n",
    "    .withColumn(\"State_Bottle_Cost\", parse_dollar(\"State_Bottle_Cost\")) \\\n",
    "    .withColumn(\"State_Bottle_Retail\", parse_dollar(\"State_Bottle_Retail\")) \\\n",
    "    .withColumn(\"Sale_Dollars\", parse_dollar(\"Sale_Dollars\")) \\\n",
    "    .withColumn(\"Store_Location\", clean_location(\"Store_Location\")) \\\n",
    "    .withColumn(\"invoice_number\", F.col(\"Invoice/Item_Number\").substr(0, 6)) \\\n",
    "    .withColumn(\"line_number\", F.col(\"Invoice/Item_Number\").substr(7, 6)) \\\n",
    "    .drop(\"Invoice/Item_Number\", \"Store_Location\")"
   ]
  },
  {
   "cell_type": "code",
   "execution_count": 12,
   "metadata": {},
   "outputs": [
    {
     "name": "stdout",
     "output_type": "stream",
     "text": [
      "-RECORD 0-------------------------------------------------------\n",
      " Date                | 2012-10-24                               \n",
      " Store_Number        | 2648                                     \n",
      " Store_Name          | Hy-Vee #4 / WDM                          \n",
      " Address             | 555 S 51ST ST                            \n",
      " City                | WEST DES MOINES                          \n",
      " Zip_Code            | 50265                                    \n",
      " County_Number       | 77                                       \n",
      " County              | Polk                                     \n",
      " Category            | 1081390                                  \n",
      " Category_Name       | IMPORTED SCHNAPPS                        \n",
      " Vendor_Number       | 260                                      \n",
      " Vendor_Name         | Diageo Americas                          \n",
      " Item_Number         | 69945                                    \n",
      " Item_Description    | Rumple Minze Peppermint Schnapps Liqueur \n",
      " Pack                | 12                                       \n",
      " Bottle_Volume_ml    | 375                                      \n",
      " State_Bottle_Cost   | 6.75                                     \n",
      " State_Bottle_Retail | 10.12                                    \n",
      " Bottles_Sold        | 3                                        \n",
      " Sale_Dollars        | 30.36                                    \n",
      " Volume_Sold_Liters  | 1.12                                     \n",
      " Volume_Sold_Gallons | 0.3                                      \n",
      " lat                 | 41.56122                                 \n",
      " lon                 | -93.77358                                \n",
      " invoice_number      | S08552                                   \n",
      " line_number         | 300110                                   \n",
      "only showing top 1 row\n",
      "\n"
     ]
    }
   ],
   "source": [
    "df2.show(1, truncate=False, vertical=True)"
   ]
  },
  {
   "cell_type": "code",
   "execution_count": 7,
   "metadata": {},
   "outputs": [],
   "source": [
    "save_parquet(\"/user/adam/parquet/cleaned\", df2)"
   ]
  },
  {
   "cell_type": "code",
   "execution_count": 4,
   "metadata": {},
   "outputs": [],
   "source": [
    "df2 = read_parquet(\"/user/adam/parquet/cleaned\")"
   ]
  },
  {
   "cell_type": "markdown",
   "metadata": {},
   "source": [
    "# More cleaning\n",
    "- Split up the tables into their most simple groups  \n",
    "- Clean each of the tables by finding the modal value for each group\n",
    "- Combine the tables again"
   ]
  },
  {
   "cell_type": "code",
   "execution_count": 9,
   "metadata": {},
   "outputs": [],
   "source": [
    "def mode(df, group_col, val_col):\n",
    "    \"\"\"\n",
    "    Calculate the modal value for a group\n",
    "    \"\"\"\n",
    "    \n",
    "    if type(group_col) == str:\n",
    "        group_col = [group_col]\n",
    "    \n",
    "    \n",
    "    # Count unique values\n",
    "    counts = df.groupby(*group_col, val_col).count().alias(\"count\")\n",
    "    \n",
    "    # Select the maximum from each group\n",
    "    return counts.groupBy(*group_col) \\\n",
    "        .agg(F.max(F.struct(\"count\", val_col)).alias(\"max\")) \\\n",
    "        .select(*group_col, f\"max.{val_col}\")\n",
    "\n",
    "@pandas_udf(\"float\")\n",
    "def median(s: pd.Series) -> float:\n",
    "    return s.quantile(0.5)"
   ]
  },
  {
   "cell_type": "code",
   "execution_count": 10,
   "metadata": {},
   "outputs": [],
   "source": [
    "store_names = mode(df2, \"Store_Number\", \"Store_Name\")\n",
    "vendor_names = mode(df2, \"Vendor_Number\", \"Vendor_Name\")\n",
    "items = mode(df2, \"Item_Number\", \"Item_Description\")\n",
    "county_names = mode(df2, \"County_Number\", \"County\")\n",
    "store_locations = mode(df2, [\"Store_Number\", \"Zip_Code\"], \"Address\")\n",
    "categories = mode(df2, \"Category\", \"Category_Name\")\n",
    "\n",
    "zip_county = mode(df2, \"Zip_Code\", \"County_Number\")\n",
    "zip_city = mode(df2, \"Zip_Code\", \"City\")\n",
    "zip_codes = zip_county.join(zip_city, \"Zip_Code\", \"inner\")\n",
    "\n",
    "gps = df2.groupby(\"Store_Number\", \"Zip_Code\").agg(\n",
    "    median(\"lat\").alias(\"median_lat\"),\n",
    "    median(\"lon\").alias(\"median_lon\"),\n",
    ")"
   ]
  },
  {
   "cell_type": "code",
   "execution_count": 11,
   "metadata": {},
   "outputs": [],
   "source": [
    "df_raw = df2.select(\n",
    "    \"Date\", \n",
    "    \"Store_Number\", \n",
    "    \"Zip_Code\",\n",
    "    \"Category\",\n",
    "    \"Vendor_Number\", \n",
    "    \"Item_Number\",\n",
    "    \"Pack\",\n",
    "    \"Bottle_Volume_ml\", \n",
    "    'State_Bottle_Cost',\n",
    "    'State_Bottle_Retail',\n",
    "    'Bottles_Sold',\n",
    "    'Sale_Dollars',\n",
    "    'Volume_Sold_Liters',\n",
    "    'Volume_Sold_Gallons',\n",
    "    'invoice_number',\n",
    "    'line_number'\n",
    ")\n",
    "\n",
    "df_joined = df_raw.join(store_names, \"Store_Number\", how=\"left\") \\\n",
    "    .join(store_locations, [\"Store_Number\", \"Zip_Code\"], how=\"left\") \\\n",
    "    .join(gps, [\"Store_Number\", \"Zip_Code\"], how=\"left\") \\\n",
    "    .join(zip_codes, \"Zip_Code\", how=\"left\") \\\n",
    "    .join(county_names, on=\"County_Number\", how=\"left\") \\\n",
    "    .join(vendor_names, on=\"Vendor_Number\", how=\"left\") \\\n",
    "    .join(items, on=\"Item_Number\", how=\"left\") \\\n",
    "    .join(categories, on=\"Category\", how=\"left\")"
   ]
  },
  {
   "cell_type": "code",
   "execution_count": 13,
   "metadata": {},
   "outputs": [
    {
     "name": "stdout",
     "output_type": "stream",
     "text": [
      "-RECORD 0---------------------------------------\n",
      " Category            | 1022200                  \n",
      " Item_Number         | 87849                    \n",
      " Vendor_Number       | 85                       \n",
      " County_Number       | 31                       \n",
      " Zip_Code            | 52002                    \n",
      " Store_Number        | 2624                     \n",
      " Date                | 2017-10-10               \n",
      " Pack                | 6                        \n",
      " Bottle_Volume_ml    | 750                      \n",
      " State_Bottle_Cost   | 23.99                    \n",
      " State_Bottle_Retail | 35.99                    \n",
      " Bottles_Sold        | 2                        \n",
      " Sale_Dollars        | 35.99                    \n",
      " Volume_Sold_Liters  | 1.5                      \n",
      " Volume_Sold_Gallons | 0.39                     \n",
      " invoice_number      | INV-07                   \n",
      " line_number         | 863000                   \n",
      " Store_Name          | Hy-Vee #2 / Dubuque      \n",
      " Address             | 2395 NW ARTERIAL RD      \n",
      " median_lat          | 42.51662                 \n",
      " median_lon          | -90.741066               \n",
      " City                | DUBUQUE                  \n",
      " County              | Dubuque                  \n",
      " Vendor_Name         | Brown-Forman Corporation \n",
      " Item_Description    | Herradura Sliver         \n",
      " Category_Name       | 100% Agave Tequila       \n",
      "only showing top 1 row\n",
      "\n"
     ]
    }
   ],
   "source": [
    "df_joined.show(1, truncate=False, vertical=True)"
   ]
  },
  {
   "cell_type": "code",
   "execution_count": null,
   "metadata": {},
   "outputs": [],
   "source": [
    "save_parquet(\"/user/adam/parquet/cleaned2\", df_joined)"
   ]
  },
  {
   "cell_type": "code",
   "execution_count": 5,
   "metadata": {},
   "outputs": [],
   "source": [
    "df_joined = read_parquet(\"/user/adam/parquet/cleaned2\")"
   ]
  },
  {
   "cell_type": "markdown",
   "metadata": {},
   "source": [
    "# Comparison"
   ]
  },
  {
   "cell_type": "code",
   "execution_count": 6,
   "metadata": {},
   "outputs": [],
   "source": [
    "def count_null(df):\n",
    "    null_counts = []\n",
    "    for i, c in enumerate(df.columns):\n",
    "        print(\"\\r\", i+1, \"/\", len(df.columns), end=\"\", flush=True)\n",
    "        null_counts.append({\n",
    "            \"column\": c,\n",
    "            \"nulls\": df.filter(F.col(c).isNull()).count()\n",
    "        })\n",
    "        \n",
    "    print()\n",
    "        \n",
    "    return pd.DataFrame(null_counts).set_index(\"column\").sort_values(\"nulls\", ascending=False)"
   ]
  },
  {
   "cell_type": "code",
   "execution_count": 7,
   "metadata": {},
   "outputs": [
    {
     "name": "stdout",
     "output_type": "stream",
     "text": [
      " 26 / 26\n",
      " 26 / 26\n"
     ]
    }
   ],
   "source": [
    "df2_null = count_null(df2)\n",
    "df_joined_null = count_null(df_joined)"
   ]
  },
  {
   "cell_type": "code",
   "execution_count": 8,
   "metadata": {},
   "outputs": [
    {
     "data": {
      "text/html": [
       "<div>\n",
       "<style scoped>\n",
       "    .dataframe tbody tr th:only-of-type {\n",
       "        vertical-align: middle;\n",
       "    }\n",
       "\n",
       "    .dataframe tbody tr th {\n",
       "        vertical-align: top;\n",
       "    }\n",
       "\n",
       "    .dataframe thead th {\n",
       "        text-align: right;\n",
       "    }\n",
       "</style>\n",
       "<table border=\"1\" class=\"dataframe\">\n",
       "  <thead>\n",
       "    <tr style=\"text-align: right;\">\n",
       "      <th></th>\n",
       "      <th>Nulls Before Cleaning</th>\n",
       "      <th>Nulls After Cleaning</th>\n",
       "    </tr>\n",
       "  </thead>\n",
       "  <tbody>\n",
       "    <tr>\n",
       "      <th>lon</th>\n",
       "      <td>941306</td>\n",
       "      <td>213676</td>\n",
       "    </tr>\n",
       "    <tr>\n",
       "      <th>lat</th>\n",
       "      <td>941306</td>\n",
       "      <td>213676</td>\n",
       "    </tr>\n",
       "    <tr>\n",
       "      <th>County_Number</th>\n",
       "      <td>79178</td>\n",
       "      <td>2420</td>\n",
       "    </tr>\n",
       "    <tr>\n",
       "      <th>County</th>\n",
       "      <td>79178</td>\n",
       "      <td>2420</td>\n",
       "    </tr>\n",
       "    <tr>\n",
       "      <th>Category_Name</th>\n",
       "      <td>16086</td>\n",
       "      <td>9024</td>\n",
       "    </tr>\n",
       "    <tr>\n",
       "      <th>Category</th>\n",
       "      <td>8020</td>\n",
       "      <td>8020</td>\n",
       "    </tr>\n",
       "    <tr>\n",
       "      <th>Zip_Code</th>\n",
       "      <td>2420</td>\n",
       "      <td>2420</td>\n",
       "    </tr>\n",
       "    <tr>\n",
       "      <th>Address</th>\n",
       "      <td>2376</td>\n",
       "      <td>2421</td>\n",
       "    </tr>\n",
       "    <tr>\n",
       "      <th>City</th>\n",
       "      <td>2375</td>\n",
       "      <td>2420</td>\n",
       "    </tr>\n",
       "    <tr>\n",
       "      <th>State_Bottle_Cost</th>\n",
       "      <td>10</td>\n",
       "      <td>10</td>\n",
       "    </tr>\n",
       "    <tr>\n",
       "      <th>State_Bottle_Retail</th>\n",
       "      <td>10</td>\n",
       "      <td>10</td>\n",
       "    </tr>\n",
       "    <tr>\n",
       "      <th>Sale_Dollars</th>\n",
       "      <td>10</td>\n",
       "      <td>10</td>\n",
       "    </tr>\n",
       "    <tr>\n",
       "      <th>Vendor_Number</th>\n",
       "      <td>3</td>\n",
       "      <td>3</td>\n",
       "    </tr>\n",
       "    <tr>\n",
       "      <th>Vendor_Name</th>\n",
       "      <td>1</td>\n",
       "      <td>3</td>\n",
       "    </tr>\n",
       "    <tr>\n",
       "      <th>Volume_Sold_Gallons</th>\n",
       "      <td>0</td>\n",
       "      <td>0</td>\n",
       "    </tr>\n",
       "    <tr>\n",
       "      <th>Volume_Sold_Liters</th>\n",
       "      <td>0</td>\n",
       "      <td>0</td>\n",
       "    </tr>\n",
       "    <tr>\n",
       "      <th>invoice_number</th>\n",
       "      <td>0</td>\n",
       "      <td>0</td>\n",
       "    </tr>\n",
       "    <tr>\n",
       "      <th>Date</th>\n",
       "      <td>0</td>\n",
       "      <td>0</td>\n",
       "    </tr>\n",
       "    <tr>\n",
       "      <th>Item_Description</th>\n",
       "      <td>0</td>\n",
       "      <td>0</td>\n",
       "    </tr>\n",
       "    <tr>\n",
       "      <th>Bottles_Sold</th>\n",
       "      <td>0</td>\n",
       "      <td>0</td>\n",
       "    </tr>\n",
       "    <tr>\n",
       "      <th>Bottle_Volume_ml</th>\n",
       "      <td>0</td>\n",
       "      <td>0</td>\n",
       "    </tr>\n",
       "    <tr>\n",
       "      <th>Pack</th>\n",
       "      <td>0</td>\n",
       "      <td>0</td>\n",
       "    </tr>\n",
       "    <tr>\n",
       "      <th>Store_Number</th>\n",
       "      <td>0</td>\n",
       "      <td>0</td>\n",
       "    </tr>\n",
       "    <tr>\n",
       "      <th>Item_Number</th>\n",
       "      <td>0</td>\n",
       "      <td>0</td>\n",
       "    </tr>\n",
       "    <tr>\n",
       "      <th>Store_Name</th>\n",
       "      <td>0</td>\n",
       "      <td>0</td>\n",
       "    </tr>\n",
       "    <tr>\n",
       "      <th>line_number</th>\n",
       "      <td>0</td>\n",
       "      <td>0</td>\n",
       "    </tr>\n",
       "  </tbody>\n",
       "</table>\n",
       "</div>"
      ],
      "text/plain": [
       "                     Nulls Before Cleaning  Nulls After Cleaning\n",
       "lon                                 941306                213676\n",
       "lat                                 941306                213676\n",
       "County_Number                        79178                  2420\n",
       "County                               79178                  2420\n",
       "Category_Name                        16086                  9024\n",
       "Category                              8020                  8020\n",
       "Zip_Code                              2420                  2420\n",
       "Address                               2376                  2421\n",
       "City                                  2375                  2420\n",
       "State_Bottle_Cost                       10                    10\n",
       "State_Bottle_Retail                     10                    10\n",
       "Sale_Dollars                            10                    10\n",
       "Vendor_Number                            3                     3\n",
       "Vendor_Name                              1                     3\n",
       "Volume_Sold_Gallons                      0                     0\n",
       "Volume_Sold_Liters                       0                     0\n",
       "invoice_number                           0                     0\n",
       "Date                                     0                     0\n",
       "Item_Description                         0                     0\n",
       "Bottles_Sold                             0                     0\n",
       "Bottle_Volume_ml                         0                     0\n",
       "Pack                                     0                     0\n",
       "Store_Number                             0                     0\n",
       "Item_Number                              0                     0\n",
       "Store_Name                               0                     0\n",
       "line_number                              0                     0"
      ]
     },
     "execution_count": 8,
     "metadata": {},
     "output_type": "execute_result"
    }
   ],
   "source": [
    "counts = pd.concat([\n",
    "    df2_null, \n",
    "    df_joined_null.rename(index={\"median_lat\": \"lat\", \"median_lon\": \"lon\"})\n",
    "], axis=1)\n",
    "counts.columns = [\"Nulls Before Cleaning\", \"Nulls After Cleaning\"]\n",
    "counts"
   ]
  },
  {
   "cell_type": "code",
   "execution_count": null,
   "metadata": {},
   "outputs": [],
   "source": []
  }
 ],
 "metadata": {
  "kernelspec": {
   "display_name": "Python 3",
   "language": "python",
   "name": "python3"
  },
  "language_info": {
   "codemirror_mode": {
    "name": "ipython",
    "version": 3
   },
   "file_extension": ".py",
   "mimetype": "text/x-python",
   "name": "python",
   "nbconvert_exporter": "python",
   "pygments_lexer": "ipython3",
   "version": "3.9.1"
  }
 },
 "nbformat": 4,
 "nbformat_minor": 4
}
